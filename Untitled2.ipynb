{
 "cells": [
  {
   "cell_type": "code",
   "execution_count": 1,
   "id": "93a0c1dc-b5d4-48b6-bcc5-e0da5e643bd5",
   "metadata": {},
   "outputs": [
    {
     "name": "stdout",
     "output_type": "stream",
     "text": [
      "pkst\n"
     ]
    }
   ],
   "source": [
    "str = \"pakisatn\"\n",
    "len_str = len(str)\n",
    "\n",
    "print(modified_string)\n",
    "for i in range(0,len_str):\n",
    "    if (i % 2) == 0:\n",
    "        print(\"muneeb\",str[i])\n",
    "#     if index!=0:\n",
    "#         print(i,index,str[i])\n",
    "    \n",
    "   \n"
   ]
  },
  {
   "cell_type": "code",
   "execution_count": 10,
   "id": "24226136-8477-46b5-bd0b-2a77a72e389b",
   "metadata": {},
   "outputs": [
    {
     "name": "stdout",
     "output_type": "stream",
     "text": [
      "muneeb\n",
      "azan\n"
     ]
    }
   ],
   "source": [
    "def test1():\n",
    "    print(\"muneeb\")\n",
    "    return  'muneeb'\n",
    "def test2(name):\n",
    "    print(name)\n",
    "    \n",
    "name = test1()\n",
    "name= test2(\"azan\")"
   ]
  },
  {
   "cell_type": "code",
   "execution_count": 18,
   "id": "d90124b9-1cf3-457f-a36f-e57ca9db9a0e",
   "metadata": {},
   "outputs": [
    {
     "name": "stdout",
     "output_type": "stream",
     "text": [
      "this is khan8\n",
      "sano jan\n",
      "sano lov\n",
      "sano qww\n"
     ]
    }
   ],
   "source": [
    "def name(khan):\n",
    "    print (\"sano \" + khan)\n",
    "def poli(ik):\n",
    "    print(\"this is \" + ik)\n",
    "khan1 = poli(\"khan8\")\n",
    "    \n",
    "name(\"jan\")\n",
    "name(\"lov\")\n",
    "name(\"qww\")"
   ]
  },
  {
   "cell_type": "code",
   "execution_count": 23,
   "id": "9f9e2840-45a7-4eaa-8af5-ce713e187b20",
   "metadata": {},
   "outputs": [
    {
     "name": "stdout",
     "output_type": "stream",
     "text": [
      "this is ornge\n",
      "this is banan\n",
      "this is shake\n"
     ]
    }
   ],
   "source": [
    "def fru(fruit):\n",
    "    for x in fruit:\n",
    "        print(\"this is \" + x)\n",
    "    \n",
    "l = [\"ornge\",  \"banan\",  \"shake\"]\n",
    "fru(l)"
   ]
  },
  {
   "cell_type": "code",
   "execution_count": 4,
   "id": "b087eb6e-546c-46ee-b1ae-a45319bb4a14",
   "metadata": {},
   "outputs": [
    {
     "name": "stdout",
     "output_type": "stream",
     "text": [
      "hey hy\n",
      "hey hahah\n",
      "hey ttttaa\n"
     ]
    }
   ],
   "source": [
    "def stud(io):\n",
    "    for x in io:\n",
    "        print(\"hey\"  ,  x)\n",
    "o= [\"hy\",  \"hahah\",  \"ttttaa\"]\n",
    "stud(o)"
   ]
  },
  {
   "cell_type": "code",
   "execution_count": null,
   "id": "d69d6310-3197-40c5-a629-73785fe4d484",
   "metadata": {},
   "outputs": [],
   "source": []
  },
  {
   "cell_type": "code",
   "execution_count": null,
   "id": "3ba1a1c1-af68-42ec-ab7a-e95d46e95ca6",
   "metadata": {},
   "outputs": [],
   "source": []
  }
 ],
 "metadata": {
  "kernelspec": {
   "display_name": "Python 3",
   "language": "python",
   "name": "python3"
  },
  "language_info": {
   "codemirror_mode": {
    "name": "ipython",
    "version": 3
   },
   "file_extension": ".py",
   "mimetype": "text/x-python",
   "name": "python",
   "nbconvert_exporter": "python",
   "pygments_lexer": "ipython3",
   "version": "3.7.5"
  }
 },
 "nbformat": 4,
 "nbformat_minor": 5
}
