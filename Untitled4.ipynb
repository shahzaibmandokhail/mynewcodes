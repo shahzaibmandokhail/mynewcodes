{
 "cells": [
  {
   "cell_type": "code",
   "execution_count": 1,
   "id": "f6a9f5fe-4281-4093-9aa7-0498aee5765d",
   "metadata": {},
   "outputs": [
    {
     "ename": "KeyboardInterrupt",
     "evalue": "Interrupted by user",
     "output_type": "error",
     "traceback": [
      "\u001b[1;31m---------------------------------------------------------------------------\u001b[0m",
      "\u001b[1;31mKeyboardInterrupt\u001b[0m                         Traceback (most recent call last)",
      "\u001b[1;32m<ipython-input-1-4f1ded8b1ad9>\u001b[0m in \u001b[0;36m<module>\u001b[1;34m\u001b[0m\n\u001b[0;32m      1\u001b[0m \u001b[1;31m###code with hurry day 7 assignment CALCULATOR\u001b[0m\u001b[1;33m\u001b[0m\u001b[1;33m\u001b[0m\u001b[1;33m\u001b[0m\u001b[0m\n\u001b[0;32m      2\u001b[0m \u001b[1;33m\u001b[0m\u001b[0m\n\u001b[1;32m----> 3\u001b[1;33m \u001b[0mnum1\u001b[0m\u001b[1;33m=\u001b[0m \u001b[0mint\u001b[0m\u001b[1;33m(\u001b[0m\u001b[0minput\u001b[0m\u001b[1;33m(\u001b[0m\u001b[1;34m\"enter first num\"\u001b[0m\u001b[1;33m)\u001b[0m\u001b[1;33m)\u001b[0m\u001b[1;33m\u001b[0m\u001b[1;33m\u001b[0m\u001b[0m\n\u001b[0m\u001b[0;32m      4\u001b[0m \u001b[0mnum2\u001b[0m\u001b[1;33m=\u001b[0m \u001b[0mint\u001b[0m\u001b[1;33m(\u001b[0m\u001b[0minput\u001b[0m\u001b[1;33m(\u001b[0m\u001b[1;34m\"enter 2nd\"\u001b[0m\u001b[1;33m)\u001b[0m\u001b[1;33m)\u001b[0m\u001b[1;33m\u001b[0m\u001b[1;33m\u001b[0m\u001b[0m\n\u001b[0;32m      5\u001b[0m \u001b[0mop\u001b[0m\u001b[1;33m=\u001b[0m \u001b[0minput\u001b[0m\u001b[1;33m(\u001b[0m\u001b[1;34m\"enter operator\"\u001b[0m\u001b[1;33m)\u001b[0m\u001b[1;33m\u001b[0m\u001b[1;33m\u001b[0m\u001b[0m\n",
      "\u001b[1;32mC:\\Program Files\\Autosphere\\Process Studio\\App\\Python\\lib\\site-packages\\ipykernel\\kernelbase.py\u001b[0m in \u001b[0;36mraw_input\u001b[1;34m(self, prompt)\u001b[0m\n\u001b[0;32m    849\u001b[0m             \u001b[0mself\u001b[0m\u001b[1;33m.\u001b[0m\u001b[0m_parent_ident\u001b[0m\u001b[1;33m,\u001b[0m\u001b[1;33m\u001b[0m\u001b[1;33m\u001b[0m\u001b[0m\n\u001b[0;32m    850\u001b[0m             \u001b[0mself\u001b[0m\u001b[1;33m.\u001b[0m\u001b[0m_parent_header\u001b[0m\u001b[1;33m,\u001b[0m\u001b[1;33m\u001b[0m\u001b[1;33m\u001b[0m\u001b[0m\n\u001b[1;32m--> 851\u001b[1;33m             \u001b[0mpassword\u001b[0m\u001b[1;33m=\u001b[0m\u001b[1;32mFalse\u001b[0m\u001b[1;33m,\u001b[0m\u001b[1;33m\u001b[0m\u001b[1;33m\u001b[0m\u001b[0m\n\u001b[0m\u001b[0;32m    852\u001b[0m         )\n\u001b[0;32m    853\u001b[0m \u001b[1;33m\u001b[0m\u001b[0m\n",
      "\u001b[1;32mC:\\Program Files\\Autosphere\\Process Studio\\App\\Python\\lib\\site-packages\\ipykernel\\kernelbase.py\u001b[0m in \u001b[0;36m_input_request\u001b[1;34m(self, prompt, ident, parent, password)\u001b[0m\n\u001b[0;32m    890\u001b[0m             \u001b[1;32mexcept\u001b[0m \u001b[0mKeyboardInterrupt\u001b[0m\u001b[1;33m:\u001b[0m\u001b[1;33m\u001b[0m\u001b[1;33m\u001b[0m\u001b[0m\n\u001b[0;32m    891\u001b[0m                 \u001b[1;31m# re-raise KeyboardInterrupt, to truncate traceback\u001b[0m\u001b[1;33m\u001b[0m\u001b[1;33m\u001b[0m\u001b[1;33m\u001b[0m\u001b[0m\n\u001b[1;32m--> 892\u001b[1;33m                 \u001b[1;32mraise\u001b[0m \u001b[0mKeyboardInterrupt\u001b[0m\u001b[1;33m(\u001b[0m\u001b[1;34m\"Interrupted by user\"\u001b[0m\u001b[1;33m)\u001b[0m \u001b[1;32mfrom\u001b[0m \u001b[1;32mNone\u001b[0m\u001b[1;33m\u001b[0m\u001b[1;33m\u001b[0m\u001b[0m\n\u001b[0m\u001b[0;32m    893\u001b[0m             \u001b[1;32mexcept\u001b[0m \u001b[0mException\u001b[0m \u001b[1;32mas\u001b[0m \u001b[0me\u001b[0m\u001b[1;33m:\u001b[0m\u001b[1;33m\u001b[0m\u001b[1;33m\u001b[0m\u001b[0m\n\u001b[0;32m    894\u001b[0m                 \u001b[0mself\u001b[0m\u001b[1;33m.\u001b[0m\u001b[0mlog\u001b[0m\u001b[1;33m.\u001b[0m\u001b[0mwarning\u001b[0m\u001b[1;33m(\u001b[0m\u001b[1;34m\"Invalid Message:\"\u001b[0m\u001b[1;33m,\u001b[0m \u001b[0mexc_info\u001b[0m\u001b[1;33m=\u001b[0m\u001b[1;32mTrue\u001b[0m\u001b[1;33m)\u001b[0m\u001b[1;33m\u001b[0m\u001b[1;33m\u001b[0m\u001b[0m\n",
      "\u001b[1;31mKeyboardInterrupt\u001b[0m: Interrupted by user"
     ]
    }
   ],
   "source": [
    "###code with hurry day 7 assignment CALCULATOR\n",
    "\n",
    "num1= int(input(\"enter first num\"))\n",
    "num2= int(input(\"enter 2nd\"))\n",
    "op= input(\"enter operator\")\n",
    "if op == \"+\":\n",
    "    print(num1+num2)\n",
    "elif op == \"-\":\n",
    "    print(num1-num2)\n",
    "elif op == \"*\":\n",
    "    print(num1*num2)\n",
    "elif op == \"/\":\n",
    "    print(num1/num2)\n",
    "else:\n",
    "    print(\"invalid\")"
   ]
  },
  {
   "cell_type": "code",
   "execution_count": null,
   "id": "b07a3208-80f3-4b6c-8543-bc2733c480d9",
   "metadata": {},
   "outputs": [],
   "source": [
    "#code with hurry day 12 string slicing\n",
    "\n",
    "p= \"khanhaji\"\n",
    "print(p[1:6])\n",
    "print(p[:2])\n",
    "print(p[::2])\n",
    "print(len(p))\n",
    "\n",
    "print(p[-4:-1])\n",
    "p= \"harry\"\n",
    "print(p[-4:-2])"
   ]
  },
  {
   "cell_type": "code",
   "execution_count": null,
   "id": "e02c0216-8c8f-4e34-afd9-dd583e722de8",
   "metadata": {},
   "outputs": [],
   "source": [
    "# day 18 \n",
    "\n",
    "i = 0\n",
    "while (i < 10 ):\n",
    "    print(i)\n",
    "    i+=1\n",
    "print(\"done\")"
   ]
  },
  {
   "cell_type": "code",
   "execution_count": null,
   "id": "5f6e9734-fd4a-4fff-a2d1-391874f2fa06",
   "metadata": {},
   "outputs": [],
   "source": [
    "table = int(input(\"enter table u want\"))\n",
    "i = 1\n",
    "while(i < 10+1):\n",
    "    print( table , \"*\" , i , \"=\" , table*i )\n",
    "    i+=1"
   ]
  },
  {
   "cell_type": "code",
   "execution_count": null,
   "id": "b11014da-d4ed-4235-96f8-3beda640f7b5",
   "metadata": {},
   "outputs": [],
   "source": [
    "#day 19\n",
    "tab =  10\n",
    "for i in range(0,13):\n",
    "    if (i == 11):\n",
    "        break\n",
    "    print(\"10 x \" , i , \"=\" ,  10 * i)\n",
    "    "
   ]
  },
  {
   "cell_type": "code",
   "execution_count": null,
   "id": "bb2d31a5-c52d-4a9d-9842-f5728ae141eb",
   "metadata": {},
   "outputs": [],
   "source": [
    "l = [\"monday\" , \"tuesday\" ,  \"wednesday\",  \"thursday\",  \"friday\",  \"saturday\" ,  \"sunday\"]\n",
    "for i in l:\n",
    "    if ( i == \"thursday\"):\n",
    "        break\n",
    "    print(i)\n",
    "    "
   ]
  },
  {
   "cell_type": "code",
   "execution_count": null,
   "id": "adc58f33-5eca-4a00-8855-ca2daa82f380",
   "metadata": {},
   "outputs": [],
   "source": [
    "mon = [\"jan \" ,\"feb \" , \"march\", \"april\" ,  \"may\", \"june\"]\n",
    "i = 0 \n",
    "for i in mon:\n",
    "    if ( i == \"march\"):\n",
    "        continue\n",
    "    print(i)"
   ]
  },
  {
   "cell_type": "code",
   "execution_count": null,
   "id": "89730d1c-abbb-4903-af30-40192749f2da",
   "metadata": {},
   "outputs": [],
   "source": [
    "for i in range(10):\n",
    "    if (i == 7):\n",
    "        break   #stop loop\n",
    "    print(i)"
   ]
  },
  {
   "cell_type": "code",
   "execution_count": null,
   "id": "69a425a5-5ca5-48ba-8894-13367b96a8cb",
   "metadata": {},
   "outputs": [],
   "source": [
    "for i in range(11):\n",
    "    if ( i ==5): \n",
    "        continue   #it means (skip the loop)\n",
    "    print(i)"
   ]
  },
  {
   "cell_type": "code",
   "execution_count": null,
   "id": "f6eb3a85-e52b-4c5e-a42c-74dc6d802723",
   "metadata": {},
   "outputs": [],
   "source": [
    "# day 21\n",
    "def avg(a=2 , b=5):\n",
    "    print(a+b)\n",
    "avg(3,6)"
   ]
  },
  {
   "cell_type": "code",
   "execution_count": null,
   "id": "10fe3e1e-2433-42a3-8a12-8942b8221eca",
   "metadata": {},
   "outputs": [],
   "source": [
    "def cal(a,b):\n",
    "    print(a+b)\n",
    "    a=10\n",
    "    b=11\n",
    "    print(a+b)\n",
    "n1=7\n",
    "n2=23\n",
    "cal(n1,n2)"
   ]
  },
  {
   "cell_type": "code",
   "execution_count": null,
   "id": "79ca1a67-33d2-4cdc-b602-e98cdbd86e2c",
   "metadata": {},
   "outputs": [],
   "source": [
    "def abc(x):\n",
    "    return x\n",
    "def cde(y):\n",
    "    return y\n",
    "def fgh(x,y):\n",
    "    sum= x+y\n",
    "    return sum\n",
    "def main1(msg):\n",
    "    i= abc(10)\n",
    "    j= cde(5)\n",
    "    h= fgh(i, j)\n",
    "    print(msg,h)\n",
    "main1(\"This is my Sum :\")\n",
    "\n",
    "    \n",
    "    "
   ]
  },
  {
   "cell_type": "code",
   "execution_count": null,
   "id": "4dba36bc-23db-4550-8cd0-a23c2fe19a0d",
   "metadata": {},
   "outputs": [],
   "source": [
    "def num1():\n",
    "    j= int(input(\"enter table u want\"))\n",
    "    return j\n",
    "def tabl():\n",
    "           c = num1()\n",
    "           for i in range(2,11,2):\n",
    "               print( c , \"x\", i,  \"=\" , c*i  )\n",
    "#c = num(j)           \n",
    "tabl()\n",
    "\n",
    "    "
   ]
  },
  {
   "cell_type": "code",
   "execution_count": 3,
   "id": "580e4fc4-7061-4739-a49d-41af7fd55197",
   "metadata": {},
   "outputs": [
    {
     "name": "stdin",
     "output_type": "stream",
     "text": [
      "sanga ba syyyy 7\n"
     ]
    },
    {
     "name": "stdout",
     "output_type": "stream",
     "text": [
      "7 x 2 = 14\n",
      "7 x 4 = 28\n",
      "7 x 6 = 42\n",
      "7 x 8 = 56\n",
      "7 x 10 = 70\n"
     ]
    }
   ],
   "source": [
    "def num1(a):\n",
    "    j= int(input(a))\n",
    "    #j= int(input(\"enter table u want\"))\n",
    "    return j\n",
    "def tabl():\n",
    "           c = num1(\"sanga ba syyyy\")\n",
    "           for i in range(2,11,2):\n",
    "                myfun(c,i)\n",
    "           # print( c , \"x\", i,  \"=\" , c*i  )\n",
    "def myfun(x,y):\n",
    "    \n",
    "         print( x , \"x\", y,  \"=\" , x*y  )   \n",
    "#c = num(j) \n",
    "\n",
    "tabl()"
   ]
  },
  {
   "cell_type": "code",
   "execution_count": null,
   "id": "3e617bf5-9a55-4b1c-9d84-0dfc540e3ecf",
   "metadata": {},
   "outputs": [],
   "source": [
    "def mathmathi():\n",
    "    print(\"calculator\")\n",
    "    a= int(input(\"enter first\"))\n",
    "    b= int(input(\"enter 2nd\"))\n",
    "    return a,b\n",
    "\n",
    "def cal():\n",
    "    f,g = mathmathi()\n",
    "    op= input(\"enter op\")\n",
    "    if (op == \"+\"):\n",
    "        print(f+g)\n",
    "    elif ( op == \"-\"):\n",
    "        print(f-g)\n",
    "    elif ( op == \"*\"):\n",
    "        print(f*g)\n",
    "    elif ( op  == \"/\"):\n",
    "        print(f/g)\n",
    "    else:\n",
    "        print(\"invalid\")\n",
    "        \n",
    "def Scntfic():\n",
    "    cal()\n",
    "    \n",
    "    \n",
    "Scntfic()\n",
    "        "
   ]
  },
  {
   "cell_type": "code",
   "execution_count": null,
   "id": "718e2319-66a5-4bea-ac19-35a008a3fff9",
   "metadata": {},
   "outputs": [],
   "source": [
    "def cla(w):\n",
    "    p= int(input(w))\n",
    "    return p\n",
    "def clp():\n",
    "    o = cla(\"bhai kinne h\")\n",
    "    if (o > 20):\n",
    "        print(\"bhai inne zeyda\" ,  o  , \"inne larky\")\n",
    "    else:\n",
    "        print(\"inne kam\" , o)\n",
    "def atte():\n",
    "    clp()\n",
    "    clo(\"btaw kinne chutti pr h\")\n",
    "def clo(x):\n",
    "    q=int(input(x))\n",
    "    print(\"boht zeyda h\",  q)\n",
    "atte()\n",
    "    "
   ]
  },
  {
   "cell_type": "code",
   "execution_count": null,
   "id": "62e7105b-6003-4319-abe6-55b764b70d6c",
   "metadata": {},
   "outputs": [],
   "source": [
    "# day 25\n",
    "t = (1,2,3,4,5,6)\n",
    "print(type(t))\n",
    "\n",
    "l= t\n",
    "p= list(l)\n",
    "print(type(p))\n",
    "print(p)\n",
    "p[2]= 10\n",
    "print(p)\n",
    "t=tuple(p)\n",
    "print(type(t))"
   ]
  },
  {
   "cell_type": "code",
   "execution_count": null,
   "id": "dedc070d-7cd6-4b89-aab4-a90c2cea41bc",
   "metadata": {},
   "outputs": [],
   "source": [
    "# day 28\n",
    "first= \"lshkr\"\n",
    "second= \"azan\"\n",
    "# print(\"my  first name is {1} and {0} \".format(second,first))\n",
    "print(f\"my first name is {first} \\n {second}\")\n"
   ]
  },
  {
   "cell_type": "code",
   "execution_count": 19,
   "id": "e78cf812-8cac-4e11-837e-b660079e3f47",
   "metadata": {},
   "outputs": [
    {
     "name": "stdin",
     "output_type": "stream",
     "text": [
      "put ur name khan\n"
     ]
    },
    {
     "name": "stdout",
     "output_type": "stream",
     "text": [
      "uyrnaherehw\n"
     ]
    }
   ],
   "source": [
    "#asssign4\n",
    "new= \"where\"\n",
    "new2= \"ryu\"\n",
    "\n",
    "st= input(\"put ur name\")\n",
    "st1= st[1:]\n",
    "op= new + st1 + new2\n",
    "print(op[-1::-1])"
   ]
  },
  {
   "cell_type": "code",
   "execution_count": 27,
   "id": "9c9cbb2c-9e5e-44ae-b289-cb95a16ba788",
   "metadata": {},
   "outputs": [
    {
     "name": "stdin",
     "output_type": "stream",
     "text": [
      "enter ur num 5\n"
     ]
    },
    {
     "name": "stdout",
     "output_type": "stream",
     "text": [
      "2880\n"
     ]
    }
   ],
   "source": []
  },
  {
   "cell_type": "code",
   "execution_count": null,
   "id": "ab804d1f-8390-471e-a0eb-9926626a227a",
   "metadata": {},
   "outputs": [],
   "source": [
    "def fct(no):\n",
    "    if (no == 0 or no ==1):\n",
    "        return 1\n",
    "    else:\n",
    "        num1 = no * (no -1)\n",
    "        no= num1 *no \n",
    "    print(no)\n",
    "    no-=1\n",
    "fct(5)\n",
    "##ni keya"
   ]
  },
  {
   "cell_type": "code",
   "execution_count": 28,
   "id": "d01e60da-cb0c-48d2-bdec-e0e8be6f990d",
   "metadata": {},
   "outputs": [
    {
     "name": "stdout",
     "output_type": "stream",
     "text": [
      "user first name\n"
     ]
    },
    {
     "ename": "KeyboardInterrupt",
     "evalue": "Interrupted by user",
     "output_type": "error",
     "traceback": [
      "\u001b[1;31m---------------------------------------------------------------------------\u001b[0m",
      "\u001b[1;31mKeyboardInterrupt\u001b[0m                         Traceback (most recent call last)",
      "\u001b[1;32m<ipython-input-28-87595ad9bfa7>\u001b[0m in \u001b[0;36m<module>\u001b[1;34m\u001b[0m\n\u001b[0;32m      8\u001b[0m     \u001b[0mc\u001b[0m\u001b[1;33m=\u001b[0m \u001b[0mabc\u001b[0m\u001b[1;33m(\u001b[0m\u001b[1;33m)\u001b[0m\u001b[1;33m\u001b[0m\u001b[1;33m\u001b[0m\u001b[0m\n\u001b[0;32m      9\u001b[0m     \u001b[0md\u001b[0m\u001b[1;33m=\u001b[0m \u001b[0mder\u001b[0m\u001b[1;33m(\u001b[0m\u001b[1;33m)\u001b[0m\u001b[1;33m\u001b[0m\u001b[1;33m\u001b[0m\u001b[0m\n\u001b[1;32m---> 10\u001b[1;33m \u001b[0mcall\u001b[0m\u001b[1;33m(\u001b[0m\u001b[1;33m)\u001b[0m\u001b[1;33m\u001b[0m\u001b[1;33m\u001b[0m\u001b[0m\n\u001b[0m",
      "\u001b[1;32m<ipython-input-28-87595ad9bfa7>\u001b[0m in \u001b[0;36mcall\u001b[1;34m()\u001b[0m\n\u001b[0;32m      6\u001b[0m     \u001b[1;32mreturn\u001b[0m \u001b[0msec\u001b[0m\u001b[1;33m\u001b[0m\u001b[1;33m\u001b[0m\u001b[0m\n\u001b[0;32m      7\u001b[0m \u001b[1;32mdef\u001b[0m \u001b[0mcall\u001b[0m\u001b[1;33m(\u001b[0m\u001b[1;33m)\u001b[0m\u001b[1;33m:\u001b[0m\u001b[1;33m\u001b[0m\u001b[1;33m\u001b[0m\u001b[0m\n\u001b[1;32m----> 8\u001b[1;33m     \u001b[0mc\u001b[0m\u001b[1;33m=\u001b[0m \u001b[0mabc\u001b[0m\u001b[1;33m(\u001b[0m\u001b[1;33m)\u001b[0m\u001b[1;33m\u001b[0m\u001b[1;33m\u001b[0m\u001b[0m\n\u001b[0m\u001b[0;32m      9\u001b[0m     \u001b[0md\u001b[0m\u001b[1;33m=\u001b[0m \u001b[0mder\u001b[0m\u001b[1;33m(\u001b[0m\u001b[1;33m)\u001b[0m\u001b[1;33m\u001b[0m\u001b[1;33m\u001b[0m\u001b[0m\n\u001b[0;32m     10\u001b[0m \u001b[0mcall\u001b[0m\u001b[1;33m(\u001b[0m\u001b[1;33m)\u001b[0m\u001b[1;33m\u001b[0m\u001b[1;33m\u001b[0m\u001b[0m\n",
      "\u001b[1;32m<ipython-input-28-87595ad9bfa7>\u001b[0m in \u001b[0;36mabc\u001b[1;34m()\u001b[0m\n\u001b[0;32m      1\u001b[0m \u001b[1;32mdef\u001b[0m \u001b[0mabc\u001b[0m\u001b[1;33m(\u001b[0m\u001b[1;33m)\u001b[0m\u001b[1;33m:\u001b[0m\u001b[1;33m\u001b[0m\u001b[1;33m\u001b[0m\u001b[0m\n\u001b[1;32m----> 2\u001b[1;33m     \u001b[0mfirst\u001b[0m\u001b[1;33m=\u001b[0m\u001b[0minput\u001b[0m\u001b[1;33m(\u001b[0m\u001b[0mprint\u001b[0m\u001b[1;33m(\u001b[0m\u001b[1;34m\"user first name\"\u001b[0m\u001b[1;33m)\u001b[0m\u001b[1;33m)\u001b[0m\u001b[1;33m\u001b[0m\u001b[1;33m\u001b[0m\u001b[0m\n\u001b[0m\u001b[0;32m      3\u001b[0m     \u001b[1;32mreturn\u001b[0m \u001b[0mfirst\u001b[0m\u001b[1;33m\u001b[0m\u001b[1;33m\u001b[0m\u001b[0m\n\u001b[0;32m      4\u001b[0m \u001b[1;32mdef\u001b[0m \u001b[0mder\u001b[0m\u001b[1;33m(\u001b[0m\u001b[1;33m)\u001b[0m\u001b[1;33m:\u001b[0m\u001b[1;33m\u001b[0m\u001b[1;33m\u001b[0m\u001b[0m\n\u001b[0;32m      5\u001b[0m     \u001b[0msec\u001b[0m \u001b[1;33m=\u001b[0m\u001b[0minput\u001b[0m\u001b[1;33m(\u001b[0m\u001b[0mprint\u001b[0m\u001b[1;33m(\u001b[0m\u001b[1;34m\"user first name\"\u001b[0m\u001b[1;33m)\u001b[0m\u001b[1;33m)\u001b[0m\u001b[1;33m\u001b[0m\u001b[1;33m\u001b[0m\u001b[0m\n",
      "\u001b[1;32mC:\\Program Files\\Autosphere\\Process Studio\\App\\Python\\lib\\site-packages\\ipykernel\\kernelbase.py\u001b[0m in \u001b[0;36mraw_input\u001b[1;34m(self, prompt)\u001b[0m\n\u001b[0;32m    849\u001b[0m             \u001b[0mself\u001b[0m\u001b[1;33m.\u001b[0m\u001b[0m_parent_ident\u001b[0m\u001b[1;33m,\u001b[0m\u001b[1;33m\u001b[0m\u001b[1;33m\u001b[0m\u001b[0m\n\u001b[0;32m    850\u001b[0m             \u001b[0mself\u001b[0m\u001b[1;33m.\u001b[0m\u001b[0m_parent_header\u001b[0m\u001b[1;33m,\u001b[0m\u001b[1;33m\u001b[0m\u001b[1;33m\u001b[0m\u001b[0m\n\u001b[1;32m--> 851\u001b[1;33m             \u001b[0mpassword\u001b[0m\u001b[1;33m=\u001b[0m\u001b[1;32mFalse\u001b[0m\u001b[1;33m,\u001b[0m\u001b[1;33m\u001b[0m\u001b[1;33m\u001b[0m\u001b[0m\n\u001b[0m\u001b[0;32m    852\u001b[0m         )\n\u001b[0;32m    853\u001b[0m \u001b[1;33m\u001b[0m\u001b[0m\n",
      "\u001b[1;32mC:\\Program Files\\Autosphere\\Process Studio\\App\\Python\\lib\\site-packages\\ipykernel\\kernelbase.py\u001b[0m in \u001b[0;36m_input_request\u001b[1;34m(self, prompt, ident, parent, password)\u001b[0m\n\u001b[0;32m    890\u001b[0m             \u001b[1;32mexcept\u001b[0m \u001b[0mKeyboardInterrupt\u001b[0m\u001b[1;33m:\u001b[0m\u001b[1;33m\u001b[0m\u001b[1;33m\u001b[0m\u001b[0m\n\u001b[0;32m    891\u001b[0m                 \u001b[1;31m# re-raise KeyboardInterrupt, to truncate traceback\u001b[0m\u001b[1;33m\u001b[0m\u001b[1;33m\u001b[0m\u001b[1;33m\u001b[0m\u001b[0m\n\u001b[1;32m--> 892\u001b[1;33m                 \u001b[1;32mraise\u001b[0m \u001b[0mKeyboardInterrupt\u001b[0m\u001b[1;33m(\u001b[0m\u001b[1;34m\"Interrupted by user\"\u001b[0m\u001b[1;33m)\u001b[0m \u001b[1;32mfrom\u001b[0m \u001b[1;32mNone\u001b[0m\u001b[1;33m\u001b[0m\u001b[1;33m\u001b[0m\u001b[0m\n\u001b[0m\u001b[0;32m    893\u001b[0m             \u001b[1;32mexcept\u001b[0m \u001b[0mException\u001b[0m \u001b[1;32mas\u001b[0m \u001b[0me\u001b[0m\u001b[1;33m:\u001b[0m\u001b[1;33m\u001b[0m\u001b[1;33m\u001b[0m\u001b[0m\n\u001b[0;32m    894\u001b[0m                 \u001b[0mself\u001b[0m\u001b[1;33m.\u001b[0m\u001b[0mlog\u001b[0m\u001b[1;33m.\u001b[0m\u001b[0mwarning\u001b[0m\u001b[1;33m(\u001b[0m\u001b[1;34m\"Invalid Message:\"\u001b[0m\u001b[1;33m,\u001b[0m \u001b[0mexc_info\u001b[0m\u001b[1;33m=\u001b[0m\u001b[1;32mTrue\u001b[0m\u001b[1;33m)\u001b[0m\u001b[1;33m\u001b[0m\u001b[1;33m\u001b[0m\u001b[0m\n",
      "\u001b[1;31mKeyboardInterrupt\u001b[0m: Interrupted by user"
     ]
    }
   ],
   "source": []
  },
  {
   "cell_type": "code",
   "execution_count": 34,
   "id": "273008b9-a53a-4dfd-8ec2-f0ebcc458bfa",
   "metadata": {},
   "outputs": [
    {
     "name": "stdin",
     "output_type": "stream",
     "text": [
      "user first name khan\n",
      "user second name shahid\n"
     ]
    },
    {
     "name": "stdout",
     "output_type": "stream",
     "text": [
      "khan shahid\n"
     ]
    }
   ],
   "source": [
    "def abc():\n",
    "    first=input(\"user first name\")\n",
    "    return first\n",
    "def der():\n",
    "    sec =input(\"user second name\")\n",
    "    return sec\n",
    "def call():\n",
    "    c= abc()\n",
    "    d= der()\n",
    "    print(c,d)\n",
    "call()"
   ]
  },
  {
   "cell_type": "markdown",
   "id": "b9cc0bce-47df-4359-ae13-1671dbd03579",
   "metadata": {},
   "source": []
  },
  {
   "cell_type": "code",
   "execution_count": null,
   "id": "3912b2ce-b2d9-41dc-8b88-a6ae7b2eb97c",
   "metadata": {},
   "outputs": [],
   "source": []
  },
  {
   "cell_type": "markdown",
   "id": "47e5466c-f452-4f45-9c45-3f199801416f",
   "metadata": {},
   "source": [
    "## def userr():\n",
    "    users = input(\"user name\")\n",
    "    return users\n",
    "def emai():\n",
    "    emailidd = input(\"email id\")\n",
    "    return emailidd\n",
    "def calll():\n",
    "    c=userr()\n",
    "    d=emai()\n",
    "    print(c,d)\n",
    "calll()\n",
    "    "
   ]
  },
  {
   "cell_type": "code",
   "execution_count": 75,
   "id": "fa9a737d-7311-4c42-a663-fe899e0643d4",
   "metadata": {},
   "outputs": [
    {
     "name": "stdin",
     "output_type": "stream",
     "text": [
      "user name azan\n",
      "email id gt6\n",
      " again email id for confirmation ju7\n"
     ]
    },
    {
     "name": "stdout",
     "output_type": "stream",
     "text": [
      "validation failed\n",
      "my name is  azan user id is  wrong\n"
     ]
    }
   ],
   "source": [
    "def userr():\n",
    "    users = input(\"user name\")\n",
    "    return users\n",
    "def emai():\n",
    "    emailidd = input(\"email id\")\n",
    "    return emailidd \n",
    "def vall():\n",
    "    z= emai()\n",
    "    emailid2= input(\" again email id for confirmation\")\n",
    "    if ( z == emailid2):\n",
    "        \n",
    "        print(\"email validiation passed\")\n",
    "        return z\n",
    "    else:\n",
    "        print(\"validation failed\")\n",
    "        return \"wrong\"\n",
    "        \n",
    "def calll():\n",
    "    c=userr()\n",
    "    print(\"my name is \" , c, \"user id is \", vall())\n",
    "calll()"
   ]
  },
  {
   "cell_type": "code",
   "execution_count": null,
   "id": "99400f47-12b9-414a-ac07-7f22e7a3d2a9",
   "metadata": {},
   "outputs": [],
   "source": [
    "def IDs():\n",
    "    Ids = input(\"enter id\")\n",
    "    return Ids\n",
    "\n",
    "def email():\n",
    "    emails = input(\"Enetr Email\")\n",
    "    \n",
    "    def verification ()"
   ]
  },
  {
   "cell_type": "code",
   "execution_count": 77,
   "id": "c66143e4-d864-42a5-ad77-37856bd67119",
   "metadata": {},
   "outputs": [
    {
     "name": "stdin",
     "output_type": "stream",
     "text": [
      "enter ur name khan\n"
     ]
    },
    {
     "name": "stdout",
     "output_type": "stream",
     "text": [
      "nahk\n"
     ]
    }
   ],
   "source": [
    "def myname():\n",
    "    a= input(\"enter ur name\")\n",
    "    return a\n",
    "def ulta():\n",
    "    b= myname()\n",
    "    print(b[-1::-1])\n",
    "ulta()"
   ]
  },
  {
   "cell_type": "code",
   "execution_count": 89,
   "id": "f3492dcf-3b73-4594-b281-1889ad382878",
   "metadata": {},
   "outputs": [
    {
     "name": "stdin",
     "output_type": "stream",
     "text": [
      "user name shahzaib\n",
      "password mandokhail\n"
     ]
    },
    {
     "name": "stdout",
     "output_type": "stream",
     "text": [
      "email validiation passed\n"
     ]
    }
   ],
   "source": [
    "def username():\n",
    "    s= input(\"user name\")\n",
    "    return s\n",
    "def passwordd():\n",
    "    s=input(\"password\")\n",
    "    return s\n",
    "def fblogin():\n",
    "    k= username()\n",
    "    l= passwordd()\n",
    "    return k,l\n",
    "\n",
    "def verif():\n",
    "    a , b= fblogin()\n",
    "    true_user= \"shahzaib\"\n",
    "    true_password= \"mandokhail\"\n",
    "    \n",
    "    if (true_user == a  and true_password== b ):\n",
    "        print(\"email validiation passed\")\n",
    "        return a,b\n",
    "    else:\n",
    "        return \"something wrong\"\n",
    "    \n",
    "def Singin():\n",
    "\n",
    "    verif()\n",
    "Singin()"
   ]
  },
  {
   "cell_type": "code",
   "execution_count": 94,
   "id": "8c1e530c-37a9-421c-9e53-36f197fd1a19",
   "metadata": {},
   "outputs": [
    {
     "name": "stdin",
     "output_type": "stream",
     "text": [
      "enter num y\n"
     ]
    },
    {
     "name": "stdout",
     "output_type": "stream",
     "text": [
      "u got a error\n"
     ]
    }
   ],
   "source": [
    "# exception handling\n",
    "try:\n",
    "    num = int(input(\"enter num\"))\n",
    "    for i in range(1,num):\n",
    "        print(i)\n",
    "except:\n",
    "    print (\"u got a error\")"
   ]
  },
  {
   "cell_type": "code",
   "execution_count": 6,
   "id": "b6e25af5-1e83-49cd-906f-3447e821b391",
   "metadata": {},
   "outputs": [],
   "source": [
    "#formatt\n",
    "#print=(f\"{int(a)}  x {i} = {int(a)} * {i}\")"
   ]
  },
  {
   "cell_type": "code",
   "execution_count": 10,
   "id": "cb89482f-968b-45a6-a65e-0b1187a3a6f8",
   "metadata": {},
   "outputs": [
    {
     "name": "stdout",
     "output_type": "stream",
     "text": [
      "mango\n",
      "kilo\n",
      "hello bhai sahb\n",
      "saib\n",
      "apple\n"
     ]
    }
   ],
   "source": [
    "# day 42\n",
    "u=[\"mango\",  \"kilo\" , \"saib\", \"apple\" ]\n",
    "for i,j in enumerate(u, start=1):\n",
    "    print(j)\n",
    "    if(i == 2):\n",
    "        print(\"hello bhai sahb\")"
   ]
  },
  {
   "cell_type": "code",
   "execution_count": 19,
   "id": "b123ed6a-7077-4cd0-bd4e-a4f2a82c7e64",
   "metadata": {},
   "outputs": [
    {
     "name": "stdout",
     "output_type": "stream",
     "text": [
      "25\n"
     ]
    }
   ],
   "source": [
    "def fuu(a,b):\n",
    "    c= a+b\n",
    "    return c\n",
    "\n",
    "\n",
    "c=fuu(10,15)\n",
    "print(c)\n"
   ]
  },
  {
   "cell_type": "code",
   "execution_count": 5,
   "id": "b821d8c0-26e0-4b23-be66-87c298f9d65c",
   "metadata": {},
   "outputs": [
    {
     "name": "stdout",
     "output_type": "stream",
     "text": [
      "__main__\n",
      "welcome to RPA\n"
     ]
    }
   ],
   "source": [
    "import phy #modules\n",
    "print(__name__) #init\n",
    "phy.welcome()"
   ]
  },
  {
   "cell_type": "markdown",
   "id": "e3e4ad22-925b-4b62-867d-494ca65186d3",
   "metadata": {},
   "source": []
  },
  {
   "cell_type": "code",
   "execution_count": 37,
   "id": "80b07257-6176-4a45-8774-d9af14e606a3",
   "metadata": {},
   "outputs": [
    {
     "name": "stdout",
     "output_type": "stream",
     "text": [
      "the global_variabl is 17\n",
      "the local_variabl is change into glo 70\n",
      "the global_variabl is 70\n"
     ]
    }
   ],
   "source": [
    "x= 17\n",
    "def hey():\n",
    "#     x= 80\n",
    "#     print(f\"the local_variabl is {x}\")\n",
    "        global x\n",
    "        x=70\n",
    "        print(f\"the local_variabl is change into glo {x}\")\n",
    "print(f\"the global_variabl is {x}\")\n",
    "hey()\n",
    "print(f\"the global_variabl is {x}\")"
   ]
  },
  {
   "cell_type": "code",
   "execution_count": 43,
   "id": "97bb9675-6610-4299-9d2b-436febc3f3b9",
   "metadata": {},
   "outputs": [
    {
     "name": "stdout",
     "output_type": "stream",
     "text": [
      "khan azan khan\n",
      "\n"
     ]
    }
   ],
   "source": [
    "f=open(\"myfile.txt\",  \"r\")\n",
    "txt=f.read()\n",
    "print(txt)\n",
    "f.close()\n"
   ]
  },
  {
   "cell_type": "code",
   "execution_count": 48,
   "id": "2347aacb-79c0-4d19-8149-c53c218bd037",
   "metadata": {},
   "outputs": [
    {
     "name": "stdout",
     "output_type": "stream",
     "text": [
      "16\n"
     ]
    }
   ],
   "source": [
    "f=open(\"myfile.txt\",  \"a\")\n",
    "txt=f.write(\"khan where r you\")\n",
    "print(txt)\n",
    "f.close()"
   ]
  },
  {
   "cell_type": "code",
   "execution_count": 54,
   "id": "6fac6438-f6bf-4486-8546-53f61c06e151",
   "metadata": {},
   "outputs": [
    {
     "name": "stdout",
     "output_type": "stream",
     "text": [
      "khan where r youkhan where r youkhan where r youkhan where r you\n",
      "\n",
      "hysddkakn\n",
      "\n",
      "njajkdkjadkj\n",
      "\n",
      "jdkjankj\n"
     ]
    }
   ],
   "source": [
    "f=open(\"myfile.txt\" ,  \"r\")\n",
    "while True:\n",
    "    line= f.readline()\n",
    "    if not line:\n",
    "        break\n",
    "    print(line)"
   ]
  },
  {
   "cell_type": "code",
   "execution_count": 60,
   "id": "faad7b38-3385-43b2-b737-20a550dcd4cb",
   "metadata": {},
   "outputs": [
    {
     "name": "stdout",
     "output_type": "stream",
     "text": [
      " wh\n",
      "4\n"
     ]
    }
   ],
   "source": [
    "f=open(\"myfile.txt\" ,  \"r\")\n",
    "f.seek(4)\n",
    "j=f.tell()\n",
    "print(f.read(3))\n",
    "\n",
    "print(j)"
   ]
  },
  {
   "cell_type": "code",
   "execution_count": 77,
   "id": "23f90720-b85c-494a-b6c4-56760f4d20c8",
   "metadata": {},
   "outputs": [
    {
     "name": "stdout",
     "output_type": "stream",
     "text": [
      "this is my func1 27\n"
     ]
    },
    {
     "data": {
      "text/plain": [
       "64"
      ]
     },
     "execution_count": 77,
     "metadata": {},
     "output_type": "execute_result"
    }
   ],
   "source": [
    "def myfun(fun,value):\n",
    "    return fun(value)\n",
    "\n",
    "#     double= lambda x: x*x \n",
    "#     print(double(3))\n",
    "# lambda a,b,c,d: (a+b+b+c+d)/3\n",
    "mul= lambda i:i*i*i\n",
    "\n",
    "#     print(f(3,5,6,5))\n",
    "print(\"this is my func1\" , myfun(mul,3))\n",
    "myfun((lambda i:i*i*i ), 4)"
   ]
  },
  {
   "cell_type": "code",
   "execution_count": null,
   "id": "caf1093b-ba53-403b-be5c-ef387ceec7a1",
   "metadata": {},
   "outputs": [],
   "source": [
    "l= ['A', 'B', 'C', 'D', 'E', 'F', 'G', 'H', 'I', 'J', 'K', 'L', 'M', 'N', 'O', 'P', 'Q', 'R', 'S', 'T', 'U', 'V', 'W', 'X', 'Y', 'Z']\n",
    "# Program to find the ASCII value of the given character\n",
    "\n",
    "for i in range(len(l)):\n",
    "    key =input(\"ur Char\")\n",
    "    if key == l[i]:\n",
    "        print(l[i+2])\n",
    "    else:\n",
    "        break\n",
    "        #l[i] =  ord(l[i+2])\n",
    "    #print(l[i])\n",
    "        \n",
    "        #print(\"The ASCII value of '\" + l[i] + \"' is\", ord(l[i+2]))\n"
   ]
  }
 ],
 "metadata": {
  "dirty": false,
  "kernelspec": {
   "display_name": "Python 3",
   "language": "python",
   "name": "python3"
  },
  "language_info": {
   "codemirror_mode": {
    "name": "ipython",
    "version": 3
   },
   "file_extension": ".py",
   "mimetype": "text/x-python",
   "name": "python",
   "nbconvert_exporter": "python",
   "pygments_lexer": "ipython3",
   "version": "3.7.5"
  }
 },
 "nbformat": 4,
 "nbformat_minor": 5
}
